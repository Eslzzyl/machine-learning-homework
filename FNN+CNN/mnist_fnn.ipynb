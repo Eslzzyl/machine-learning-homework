{
 "cells": [
  {
   "cell_type": "code",
   "execution_count": null,
   "metadata": {},
   "outputs": [],
   "source": [
    "import torch.nn\n",
    "import torchvision"
   ]
  },
  {
   "cell_type": "code",
   "execution_count": null,
   "metadata": {},
   "outputs": [],
   "source": [
    "input_size = 784\n",
    "hidden_size = 500\n",
    "num_classes = 10\n",
    "\n",
    "# 定义网络\n",
    "class Net(torch.nn.Module):\n",
    "    def __init__(self, input_size, hidden_size, num_classes):\n",
    "        super(Net, self).__init__()\n",
    "        self.forward_network = torch.nn.Sequential(\n",
    "            torch.nn.Linear(input_size, hidden_size),\n",
    "            torch.nn.ReLU(),\n",
    "            torch.nn.Linear(hidden_size, num_classes)\n",
    "        )\n",
    "    \n",
    "    # 前向传播函数\n",
    "    def forward(self, x):\n",
    "        x = self.forward_network(x)\n",
    "        return x\n"
   ]
  },
  {
   "cell_type": "code",
   "execution_count": null,
   "metadata": {},
   "outputs": [],
   "source": [
    "train_dataset = torchvision.datasets.MNIST(root='.',\n",
    "        train=True, transform=torchvision.transforms.ToTensor(),\n",
    "        download=False)         # 训练数据\n",
    "test_dataset = torchvision.datasets.MNIST(root='.',\n",
    "        train=False, transform=torchvision.transforms.ToTensor(),\n",
    "        download=False)         # 测试数据\n",
    "\n",
    "batch_size = 100\n",
    "\n",
    "train_loader = torch.utils.data.DataLoader(\n",
    "        dataset=train_dataset, batch_size=batch_size)\n",
    "test_loader = torch.utils.data.DataLoader(\n",
    "        dataset=test_dataset, batch_size=batch_size)"
   ]
  },
  {
   "cell_type": "code",
   "execution_count": null,
   "metadata": {},
   "outputs": [],
   "source": [
    "net = Net(input_size, hidden_size, num_classes)     # 实例化网络\n",
    "criterion = torch.nn.CrossEntropyLoss()             # 定义交叉熵损失函数\n",
    "optimizer = torch.optim.Adam(net.parameters())      # Adam优化\n",
    "\n",
    "num_epochs = 5\n",
    "for epoch in range(num_epochs):\n",
    "    for idx, (images, labels) in enumerate(train_loader):\n",
    "        images = images.view(-1, 28 * 28)\n",
    "        optimizer.zero_grad()\n",
    "        outputs = net(images)\n",
    "        loss = criterion(outputs, labels)\n",
    "        loss.backward()\n",
    "        optimizer.step()\n",
    "\n",
    "        if idx % 100 == 0:\n",
    "            print('epoch [%d/%d], Step [%d/%d], Loss = %.4f'\n",
    "                % (epoch + 1, num_epochs, idx,\n",
    "                len(train_dataset) // batch_size, loss.data))"
   ]
  },
  {
   "cell_type": "code",
   "execution_count": null,
   "metadata": {},
   "outputs": [],
   "source": [
    "correct = 0\n",
    "total = 0\n",
    "\n",
    "for images, labels in test_loader:\n",
    "    # images = Variable(images.view(-1, 28 * 28))\n",
    "    images = images.view(-1, 28 * 28)\n",
    "    outputs = net(images)\n",
    "    pred = torch.argmax(outputs, 1)\n",
    "    total += labels.size(0)\n",
    "    correct += (pred == labels).sum().item()\n",
    "\n",
    "accuracy = correct / total\n",
    "print('Accuracy of the network on the 10000 test images: %d %%'\n",
    "    % (100 * accuracy))     # 输出准确率"
   ]
  }
 ],
 "metadata": {
  "interpreter": {
   "hash": "d61934562b1a42432f28389085c72d5d8e42a1b26bca498e47eba4555fee6bc2"
  },
  "kernelspec": {
   "display_name": "Python 3.9.11 ('ml')",
   "language": "python",
   "name": "python3"
  },
  "language_info": {
   "codemirror_mode": {
    "name": "ipython",
    "version": 3
   },
   "file_extension": ".py",
   "mimetype": "text/x-python",
   "name": "python",
   "nbconvert_exporter": "python",
   "pygments_lexer": "ipython3",
   "version": "3.9.11"
  },
  "orig_nbformat": 4
 },
 "nbformat": 4,
 "nbformat_minor": 2
}
