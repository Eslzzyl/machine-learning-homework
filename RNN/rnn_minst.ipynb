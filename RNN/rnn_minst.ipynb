{
 "cells": [
  {
   "cell_type": "code",
   "execution_count": null,
   "id": "0a6938b2",
   "metadata": {},
   "outputs": [],
   "source": [
    "import torch\n",
    "from torch import nn\n",
    "import torchvision.datasets as dsets\n",
    "import torchvision.transforms as transforms\n",
    "from torch.utils.data import DataLoader"
   ]
  },
  {
   "cell_type": "code",
   "execution_count": null,
   "id": "ec859d64",
   "metadata": {},
   "outputs": [],
   "source": [
    "#定义超参数\n",
    "EPOCH = 2               #所有数据训练的次数 EPOCH = 2 ，经过权衡训练时间和准确率后测试发现训练周期为2比较合适\n",
    "BATCH_SIZE = 40         #批训练的手写数字图片数量\n",
    "TIME_STEP = 28          #rnn的时间序列，具体表现在图像上就是一个个的像素点，因为每行有28个像素点所以时间序列是28\n",
    "INPUT_SIZE = 28         #一行信息包括28个像素点\n",
    "LR = 0.01               #学习率\n",
    "DOWNLOAD_MNIST = True  #如果没有数据集就下载,如果有就将True改成False"
   ]
  },
  {
   "cell_type": "code",
   "execution_count": null,
   "id": "9dd1b527",
   "metadata": {},
   "outputs": [],
   "source": [
    "#MNIST数据集下载\n",
    "#训练数据集\n",
    "#如果没有数据集就下载数据集\n",
    "train_data = dsets.MNIST(root='./mnist/',train=True, transform=transforms.ToTensor(), download=DOWNLOAD_MNIST) \n",
    "#测试数据集\n",
    "test_data = dsets.MNIST(root='./mnist/',train=True, transform=transforms.ToTensor(),download=True)"
   ]
  },
  {
   "cell_type": "code",
   "execution_count": null,
   "id": "357c5ab3",
   "metadata": {},
   "outputs": [],
   "source": [
    "test_x = test_data.test_data.type(torch.FloatTensor)[:2000]/255.   #三个维度，手写图的长宽和样本个数\n",
    "test_y = test_data.test_labels.numpy()[:2000]    #转换为numpy数组，选取2000个样本可以加快测试速度"
   ]
  },
  {
   "cell_type": "code",
   "execution_count": null,
   "id": "ead20cba",
   "metadata": {},
   "outputs": [],
   "source": [
    "#数据加载器可在训练中进行小批量返回\n",
    "train_loader = DataLoader(dataset=train_data, batch_size=BATCH_SIZE)"
   ]
  },
  {
   "cell_type": "code",
   "execution_count": null,
   "id": "69e5e5ad",
   "metadata": {},
   "outputs": [],
   "source": [
    "#定义网络模型\n",
    "class RNN(nn.Module):\n",
    "    def __init__(self):\n",
    "        super(RNN, self).__init__()\n",
    "        #因为用nn.LSTM比用nn.RNN()效果好，所以这里选择用nn.LSTM，\n",
    "        # hidden_size是rnn隐藏单元，num_layers是rnn的层数，经测试选择两层比较好\n",
    "        #输入和输出的批量大小为 1s 维度\n",
    "        self.rnn = nn.LSTM(input_size=INPUT_SIZE,hidden_size=64,num_layers=2,batch_first=True)\n",
    "        self.out = nn.Linear(64, 10)  #10个数字的分类\n",
    "\n",
    "    def forward(self, x):\n",
    "        #x有三个维度：批次、时间步长、输入大小\n",
    "        #r_out有三个维度：批处理数据量、时间步长、输出大小\n",
    "        #h_n：网络层数，批处理数据量，隐藏层结点个数)\n",
    "        #h_c shape 网络层数，批处理数据量，隐藏层结点个数\n",
    "        r_out, (h_n, h_c) = self.rnn(x, None)   #None 表示初始隐藏状态\n",
    "\n",
    "        #在最后一个时间步选择r_out\n",
    "        out = self.out(r_out[:, -1, :])\n",
    "        return out"
   ]
  },
  {
   "cell_type": "code",
   "execution_count": null,
   "id": "fed813f8",
   "metadata": {},
   "outputs": [],
   "source": [
    "rnn = RNN() #调用模型\n",
    "print(rnn)  #查看模型结构"
   ]
  },
  {
   "cell_type": "code",
   "execution_count": null,
   "id": "6efd90ac",
   "metadata": {},
   "outputs": [],
   "source": [
    "optimizer = torch.optim.Adam(rnn.parameters(), lr=LR)   #选择优化器\n",
    "loss_func = nn.CrossEntropyLoss()                       #定义损失函数"
   ]
  },
  {
   "cell_type": "code",
   "execution_count": null,
   "id": "a6a0622e",
   "metadata": {},
   "outputs": [],
   "source": [
    "#训练，测试\n",
    "for epoch in range(EPOCH):\n",
    "    for step, (b_x, b_y) in enumerate(train_loader):  \n",
    "        b_x = b_x.view(-1, 28, 28)\n",
    "        #正向传播\n",
    "        output = rnn(b_x)                               #一个banch data经过rnn网络训练后的输出\n",
    "        loss = loss_func(output, b_y)                   #交叉熵损失函数\n",
    "        #反向传播\n",
    "        optimizer.zero_grad()                           #训练步骤的梯度\n",
    "        loss.backward()                                 #反向传播，计算梯度\n",
    "        optimizer.step()                                #设置学习率\n",
    "\n",
    "        if step % 50 == 0:\n",
    "            test_output = rnn(test_x)                   #样本，时间步长，输入大小\n",
    "            pred_y = torch.max(test_output, 1)[1].data.numpy()\n",
    "            accuracy = float((pred_y == test_y).astype(int).sum()) / float(test_y.size)\n",
    "            print('Epoch: ', epoch, '| 训练误差: %.4f' % loss.data.numpy(), '| 准确率: %.2f' % accuracy)"
   ]
  },
  {
   "cell_type": "code",
   "execution_count": null,
   "id": "d5ea0c2a",
   "metadata": {},
   "outputs": [],
   "source": [
    "#显示20个待预测数据和真实数据\n",
    "test_output = rnn(test_x[:20].view(-1, 28, 28))\n",
    "pred_y = torch.max(test_output, 1)[1].data.numpy()\n",
    "print(pred_y, '需要预测的数据')\n",
    "print(test_y[:20], '真实数据')"
   ]
  }
 ],
 "metadata": {
  "kernelspec": {
   "display_name": "Python 3 (ipykernel)",
   "language": "python",
   "name": "python3"
  },
  "language_info": {
   "codemirror_mode": {
    "name": "ipython",
    "version": 3
   },
   "file_extension": ".py",
   "mimetype": "text/x-python",
   "name": "python",
   "nbconvert_exporter": "python",
   "pygments_lexer": "ipython3",
   "version": "3.9.11"
  }
 },
 "nbformat": 4,
 "nbformat_minor": 5
}
